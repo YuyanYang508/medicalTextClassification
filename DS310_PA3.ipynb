{
  "cells": [
    {
      "cell_type": "markdown",
      "source": [
        "# dataset loading"
      ],
      "metadata": {
        "id": "-bOgxDKQ7Keg"
      }
    },
    {
      "cell_type": "code",
      "execution_count": 885,
      "metadata": {
        "id": "M9hAy7C7P1sb"
      },
      "outputs": [],
      "source": [
        "import pandas as pd\n",
        "import numpy as np\n",
        "\n",
        "X_train_text = pd.read_csv('/content/X_train.csv')\n",
        "X_test_text = pd.read_csv('/content/X_test.csv')\n",
        "y_train = pd.read_csv('/content/y_train.csv')"
      ]
    },
    {
      "cell_type": "code",
      "source": [
        "X_train_text.head()"
      ],
      "metadata": {
        "colab": {
          "base_uri": "https://localhost:8080/",
          "height": 206
        },
        "id": "bCdP6ym9LtJt",
        "outputId": "2fe4deb4-6b9e-42d9-fa19-400fc71edacf"
      },
      "execution_count": 886,
      "outputs": [
        {
          "output_type": "execute_result",
          "data": {
            "text/plain": [
              "   Sl. No.                                      transcription\n",
              "0      480  CC:, Orthostatic lightheadedness.,HX:, This 76...\n",
              "1      374  PREOPERATIVE DIAGNOSES,1.  Bowel obstruction.,...\n",
              "2      114  PROCEDURE: , Newborn circumcision.,INDICATIONS...\n",
              "3      729  CC: ,Episodic confusion.,HX: ,This 65 y/o RHM ...\n",
              "4      764  HX: ,This 46y/o RHM with HTN was well until 2 ..."
            ],
            "text/html": [
              "\n",
              "  <div id=\"df-f91714a3-1a47-437e-83e9-b6efef52dd76\">\n",
              "    <div class=\"colab-df-container\">\n",
              "      <div>\n",
              "<style scoped>\n",
              "    .dataframe tbody tr th:only-of-type {\n",
              "        vertical-align: middle;\n",
              "    }\n",
              "\n",
              "    .dataframe tbody tr th {\n",
              "        vertical-align: top;\n",
              "    }\n",
              "\n",
              "    .dataframe thead th {\n",
              "        text-align: right;\n",
              "    }\n",
              "</style>\n",
              "<table border=\"1\" class=\"dataframe\">\n",
              "  <thead>\n",
              "    <tr style=\"text-align: right;\">\n",
              "      <th></th>\n",
              "      <th>Sl. No.</th>\n",
              "      <th>transcription</th>\n",
              "    </tr>\n",
              "  </thead>\n",
              "  <tbody>\n",
              "    <tr>\n",
              "      <th>0</th>\n",
              "      <td>480</td>\n",
              "      <td>CC:, Orthostatic lightheadedness.,HX:, This 76...</td>\n",
              "    </tr>\n",
              "    <tr>\n",
              "      <th>1</th>\n",
              "      <td>374</td>\n",
              "      <td>PREOPERATIVE DIAGNOSES,1.  Bowel obstruction.,...</td>\n",
              "    </tr>\n",
              "    <tr>\n",
              "      <th>2</th>\n",
              "      <td>114</td>\n",
              "      <td>PROCEDURE: , Newborn circumcision.,INDICATIONS...</td>\n",
              "    </tr>\n",
              "    <tr>\n",
              "      <th>3</th>\n",
              "      <td>729</td>\n",
              "      <td>CC: ,Episodic confusion.,HX: ,This 65 y/o RHM ...</td>\n",
              "    </tr>\n",
              "    <tr>\n",
              "      <th>4</th>\n",
              "      <td>764</td>\n",
              "      <td>HX: ,This 46y/o RHM with HTN was well until 2 ...</td>\n",
              "    </tr>\n",
              "  </tbody>\n",
              "</table>\n",
              "</div>\n",
              "      <button class=\"colab-df-convert\" onclick=\"convertToInteractive('df-f91714a3-1a47-437e-83e9-b6efef52dd76')\"\n",
              "              title=\"Convert this dataframe to an interactive table.\"\n",
              "              style=\"display:none;\">\n",
              "        \n",
              "  <svg xmlns=\"http://www.w3.org/2000/svg\" height=\"24px\"viewBox=\"0 0 24 24\"\n",
              "       width=\"24px\">\n",
              "    <path d=\"M0 0h24v24H0V0z\" fill=\"none\"/>\n",
              "    <path d=\"M18.56 5.44l.94 2.06.94-2.06 2.06-.94-2.06-.94-.94-2.06-.94 2.06-2.06.94zm-11 1L8.5 8.5l.94-2.06 2.06-.94-2.06-.94L8.5 2.5l-.94 2.06-2.06.94zm10 10l.94 2.06.94-2.06 2.06-.94-2.06-.94-.94-2.06-.94 2.06-2.06.94z\"/><path d=\"M17.41 7.96l-1.37-1.37c-.4-.4-.92-.59-1.43-.59-.52 0-1.04.2-1.43.59L10.3 9.45l-7.72 7.72c-.78.78-.78 2.05 0 2.83L4 21.41c.39.39.9.59 1.41.59.51 0 1.02-.2 1.41-.59l7.78-7.78 2.81-2.81c.8-.78.8-2.07 0-2.86zM5.41 20L4 18.59l7.72-7.72 1.47 1.35L5.41 20z\"/>\n",
              "  </svg>\n",
              "      </button>\n",
              "      \n",
              "  <style>\n",
              "    .colab-df-container {\n",
              "      display:flex;\n",
              "      flex-wrap:wrap;\n",
              "      gap: 12px;\n",
              "    }\n",
              "\n",
              "    .colab-df-convert {\n",
              "      background-color: #E8F0FE;\n",
              "      border: none;\n",
              "      border-radius: 50%;\n",
              "      cursor: pointer;\n",
              "      display: none;\n",
              "      fill: #1967D2;\n",
              "      height: 32px;\n",
              "      padding: 0 0 0 0;\n",
              "      width: 32px;\n",
              "    }\n",
              "\n",
              "    .colab-df-convert:hover {\n",
              "      background-color: #E2EBFA;\n",
              "      box-shadow: 0px 1px 2px rgba(60, 64, 67, 0.3), 0px 1px 3px 1px rgba(60, 64, 67, 0.15);\n",
              "      fill: #174EA6;\n",
              "    }\n",
              "\n",
              "    [theme=dark] .colab-df-convert {\n",
              "      background-color: #3B4455;\n",
              "      fill: #D2E3FC;\n",
              "    }\n",
              "\n",
              "    [theme=dark] .colab-df-convert:hover {\n",
              "      background-color: #434B5C;\n",
              "      box-shadow: 0px 1px 3px 1px rgba(0, 0, 0, 0.15);\n",
              "      filter: drop-shadow(0px 1px 2px rgba(0, 0, 0, 0.3));\n",
              "      fill: #FFFFFF;\n",
              "    }\n",
              "  </style>\n",
              "\n",
              "      <script>\n",
              "        const buttonEl =\n",
              "          document.querySelector('#df-f91714a3-1a47-437e-83e9-b6efef52dd76 button.colab-df-convert');\n",
              "        buttonEl.style.display =\n",
              "          google.colab.kernel.accessAllowed ? 'block' : 'none';\n",
              "\n",
              "        async function convertToInteractive(key) {\n",
              "          const element = document.querySelector('#df-f91714a3-1a47-437e-83e9-b6efef52dd76');\n",
              "          const dataTable =\n",
              "            await google.colab.kernel.invokeFunction('convertToInteractive',\n",
              "                                                     [key], {});\n",
              "          if (!dataTable) return;\n",
              "\n",
              "          const docLinkHtml = 'Like what you see? Visit the ' +\n",
              "            '<a target=\"_blank\" href=https://colab.research.google.com/notebooks/data_table.ipynb>data table notebook</a>'\n",
              "            + ' to learn more about interactive tables.';\n",
              "          element.innerHTML = '';\n",
              "          dataTable['output_type'] = 'display_data';\n",
              "          await google.colab.output.renderOutput(dataTable, element);\n",
              "          const docLink = document.createElement('div');\n",
              "          docLink.innerHTML = docLinkHtml;\n",
              "          element.appendChild(docLink);\n",
              "        }\n",
              "      </script>\n",
              "    </div>\n",
              "  </div>\n",
              "  "
            ]
          },
          "metadata": {},
          "execution_count": 886
        }
      ]
    },
    {
      "cell_type": "code",
      "source": [
        "X_test_text.head()"
      ],
      "metadata": {
        "colab": {
          "base_uri": "https://localhost:8080/",
          "height": 206
        },
        "id": "aTAMbUbNL2RW",
        "outputId": "bea8dcc0-8ee9-402a-8bd2-422e82494466"
      },
      "execution_count": 887,
      "outputs": [
        {
          "output_type": "execute_result",
          "data": {
            "text/plain": [
              "   Sl. No.                                      transcription\n",
              "0      718  REASON FOR VISIT:  ,Elevated PSA with nocturia...\n",
              "1      544  REASON FOR CONSULTATION:,  Newly diagnosed cho...\n",
              "2      871  PREOPERATIVE DIAGNOSIS: , Penile skin bridges ...\n",
              "3      627  PREOPERATIVE DIAGNOSIS: , Acute abdominal pain...\n",
              "4      352  SUBJECTIVE:,  The patient was seen today by me..."
            ],
            "text/html": [
              "\n",
              "  <div id=\"df-18a537af-c066-4a1a-a4b4-0572e55df5d4\">\n",
              "    <div class=\"colab-df-container\">\n",
              "      <div>\n",
              "<style scoped>\n",
              "    .dataframe tbody tr th:only-of-type {\n",
              "        vertical-align: middle;\n",
              "    }\n",
              "\n",
              "    .dataframe tbody tr th {\n",
              "        vertical-align: top;\n",
              "    }\n",
              "\n",
              "    .dataframe thead th {\n",
              "        text-align: right;\n",
              "    }\n",
              "</style>\n",
              "<table border=\"1\" class=\"dataframe\">\n",
              "  <thead>\n",
              "    <tr style=\"text-align: right;\">\n",
              "      <th></th>\n",
              "      <th>Sl. No.</th>\n",
              "      <th>transcription</th>\n",
              "    </tr>\n",
              "  </thead>\n",
              "  <tbody>\n",
              "    <tr>\n",
              "      <th>0</th>\n",
              "      <td>718</td>\n",
              "      <td>REASON FOR VISIT:  ,Elevated PSA with nocturia...</td>\n",
              "    </tr>\n",
              "    <tr>\n",
              "      <th>1</th>\n",
              "      <td>544</td>\n",
              "      <td>REASON FOR CONSULTATION:,  Newly diagnosed cho...</td>\n",
              "    </tr>\n",
              "    <tr>\n",
              "      <th>2</th>\n",
              "      <td>871</td>\n",
              "      <td>PREOPERATIVE DIAGNOSIS: , Penile skin bridges ...</td>\n",
              "    </tr>\n",
              "    <tr>\n",
              "      <th>3</th>\n",
              "      <td>627</td>\n",
              "      <td>PREOPERATIVE DIAGNOSIS: , Acute abdominal pain...</td>\n",
              "    </tr>\n",
              "    <tr>\n",
              "      <th>4</th>\n",
              "      <td>352</td>\n",
              "      <td>SUBJECTIVE:,  The patient was seen today by me...</td>\n",
              "    </tr>\n",
              "  </tbody>\n",
              "</table>\n",
              "</div>\n",
              "      <button class=\"colab-df-convert\" onclick=\"convertToInteractive('df-18a537af-c066-4a1a-a4b4-0572e55df5d4')\"\n",
              "              title=\"Convert this dataframe to an interactive table.\"\n",
              "              style=\"display:none;\">\n",
              "        \n",
              "  <svg xmlns=\"http://www.w3.org/2000/svg\" height=\"24px\"viewBox=\"0 0 24 24\"\n",
              "       width=\"24px\">\n",
              "    <path d=\"M0 0h24v24H0V0z\" fill=\"none\"/>\n",
              "    <path d=\"M18.56 5.44l.94 2.06.94-2.06 2.06-.94-2.06-.94-.94-2.06-.94 2.06-2.06.94zm-11 1L8.5 8.5l.94-2.06 2.06-.94-2.06-.94L8.5 2.5l-.94 2.06-2.06.94zm10 10l.94 2.06.94-2.06 2.06-.94-2.06-.94-.94-2.06-.94 2.06-2.06.94z\"/><path d=\"M17.41 7.96l-1.37-1.37c-.4-.4-.92-.59-1.43-.59-.52 0-1.04.2-1.43.59L10.3 9.45l-7.72 7.72c-.78.78-.78 2.05 0 2.83L4 21.41c.39.39.9.59 1.41.59.51 0 1.02-.2 1.41-.59l7.78-7.78 2.81-2.81c.8-.78.8-2.07 0-2.86zM5.41 20L4 18.59l7.72-7.72 1.47 1.35L5.41 20z\"/>\n",
              "  </svg>\n",
              "      </button>\n",
              "      \n",
              "  <style>\n",
              "    .colab-df-container {\n",
              "      display:flex;\n",
              "      flex-wrap:wrap;\n",
              "      gap: 12px;\n",
              "    }\n",
              "\n",
              "    .colab-df-convert {\n",
              "      background-color: #E8F0FE;\n",
              "      border: none;\n",
              "      border-radius: 50%;\n",
              "      cursor: pointer;\n",
              "      display: none;\n",
              "      fill: #1967D2;\n",
              "      height: 32px;\n",
              "      padding: 0 0 0 0;\n",
              "      width: 32px;\n",
              "    }\n",
              "\n",
              "    .colab-df-convert:hover {\n",
              "      background-color: #E2EBFA;\n",
              "      box-shadow: 0px 1px 2px rgba(60, 64, 67, 0.3), 0px 1px 3px 1px rgba(60, 64, 67, 0.15);\n",
              "      fill: #174EA6;\n",
              "    }\n",
              "\n",
              "    [theme=dark] .colab-df-convert {\n",
              "      background-color: #3B4455;\n",
              "      fill: #D2E3FC;\n",
              "    }\n",
              "\n",
              "    [theme=dark] .colab-df-convert:hover {\n",
              "      background-color: #434B5C;\n",
              "      box-shadow: 0px 1px 3px 1px rgba(0, 0, 0, 0.15);\n",
              "      filter: drop-shadow(0px 1px 2px rgba(0, 0, 0, 0.3));\n",
              "      fill: #FFFFFF;\n",
              "    }\n",
              "  </style>\n",
              "\n",
              "      <script>\n",
              "        const buttonEl =\n",
              "          document.querySelector('#df-18a537af-c066-4a1a-a4b4-0572e55df5d4 button.colab-df-convert');\n",
              "        buttonEl.style.display =\n",
              "          google.colab.kernel.accessAllowed ? 'block' : 'none';\n",
              "\n",
              "        async function convertToInteractive(key) {\n",
              "          const element = document.querySelector('#df-18a537af-c066-4a1a-a4b4-0572e55df5d4');\n",
              "          const dataTable =\n",
              "            await google.colab.kernel.invokeFunction('convertToInteractive',\n",
              "                                                     [key], {});\n",
              "          if (!dataTable) return;\n",
              "\n",
              "          const docLinkHtml = 'Like what you see? Visit the ' +\n",
              "            '<a target=\"_blank\" href=https://colab.research.google.com/notebooks/data_table.ipynb>data table notebook</a>'\n",
              "            + ' to learn more about interactive tables.';\n",
              "          element.innerHTML = '';\n",
              "          dataTable['output_type'] = 'display_data';\n",
              "          await google.colab.output.renderOutput(dataTable, element);\n",
              "          const docLink = document.createElement('div');\n",
              "          docLink.innerHTML = docLinkHtml;\n",
              "          element.appendChild(docLink);\n",
              "        }\n",
              "      </script>\n",
              "    </div>\n",
              "  </div>\n",
              "  "
            ]
          },
          "metadata": {},
          "execution_count": 887
        }
      ]
    },
    {
      "cell_type": "code",
      "source": [
        "y_train.head()"
      ],
      "metadata": {
        "colab": {
          "base_uri": "https://localhost:8080/",
          "height": 206
        },
        "id": "J8ksp1BnL6d-",
        "outputId": "1b4d9692-384b-4e55-d128-c2469073b646"
      },
      "execution_count": 888,
      "outputs": [
        {
          "output_type": "execute_result",
          "data": {
            "text/plain": [
              "   Sl. No.  medical_specialty\n",
              "0      480                  1\n",
              "1      374                  5\n",
              "2      114                  3\n",
              "3      729                  1\n",
              "4      764                  1"
            ],
            "text/html": [
              "\n",
              "  <div id=\"df-dfbd7b04-baba-4b12-bc14-0d432dc2abc4\">\n",
              "    <div class=\"colab-df-container\">\n",
              "      <div>\n",
              "<style scoped>\n",
              "    .dataframe tbody tr th:only-of-type {\n",
              "        vertical-align: middle;\n",
              "    }\n",
              "\n",
              "    .dataframe tbody tr th {\n",
              "        vertical-align: top;\n",
              "    }\n",
              "\n",
              "    .dataframe thead th {\n",
              "        text-align: right;\n",
              "    }\n",
              "</style>\n",
              "<table border=\"1\" class=\"dataframe\">\n",
              "  <thead>\n",
              "    <tr style=\"text-align: right;\">\n",
              "      <th></th>\n",
              "      <th>Sl. No.</th>\n",
              "      <th>medical_specialty</th>\n",
              "    </tr>\n",
              "  </thead>\n",
              "  <tbody>\n",
              "    <tr>\n",
              "      <th>0</th>\n",
              "      <td>480</td>\n",
              "      <td>1</td>\n",
              "    </tr>\n",
              "    <tr>\n",
              "      <th>1</th>\n",
              "      <td>374</td>\n",
              "      <td>5</td>\n",
              "    </tr>\n",
              "    <tr>\n",
              "      <th>2</th>\n",
              "      <td>114</td>\n",
              "      <td>3</td>\n",
              "    </tr>\n",
              "    <tr>\n",
              "      <th>3</th>\n",
              "      <td>729</td>\n",
              "      <td>1</td>\n",
              "    </tr>\n",
              "    <tr>\n",
              "      <th>4</th>\n",
              "      <td>764</td>\n",
              "      <td>1</td>\n",
              "    </tr>\n",
              "  </tbody>\n",
              "</table>\n",
              "</div>\n",
              "      <button class=\"colab-df-convert\" onclick=\"convertToInteractive('df-dfbd7b04-baba-4b12-bc14-0d432dc2abc4')\"\n",
              "              title=\"Convert this dataframe to an interactive table.\"\n",
              "              style=\"display:none;\">\n",
              "        \n",
              "  <svg xmlns=\"http://www.w3.org/2000/svg\" height=\"24px\"viewBox=\"0 0 24 24\"\n",
              "       width=\"24px\">\n",
              "    <path d=\"M0 0h24v24H0V0z\" fill=\"none\"/>\n",
              "    <path d=\"M18.56 5.44l.94 2.06.94-2.06 2.06-.94-2.06-.94-.94-2.06-.94 2.06-2.06.94zm-11 1L8.5 8.5l.94-2.06 2.06-.94-2.06-.94L8.5 2.5l-.94 2.06-2.06.94zm10 10l.94 2.06.94-2.06 2.06-.94-2.06-.94-.94-2.06-.94 2.06-2.06.94z\"/><path d=\"M17.41 7.96l-1.37-1.37c-.4-.4-.92-.59-1.43-.59-.52 0-1.04.2-1.43.59L10.3 9.45l-7.72 7.72c-.78.78-.78 2.05 0 2.83L4 21.41c.39.39.9.59 1.41.59.51 0 1.02-.2 1.41-.59l7.78-7.78 2.81-2.81c.8-.78.8-2.07 0-2.86zM5.41 20L4 18.59l7.72-7.72 1.47 1.35L5.41 20z\"/>\n",
              "  </svg>\n",
              "      </button>\n",
              "      \n",
              "  <style>\n",
              "    .colab-df-container {\n",
              "      display:flex;\n",
              "      flex-wrap:wrap;\n",
              "      gap: 12px;\n",
              "    }\n",
              "\n",
              "    .colab-df-convert {\n",
              "      background-color: #E8F0FE;\n",
              "      border: none;\n",
              "      border-radius: 50%;\n",
              "      cursor: pointer;\n",
              "      display: none;\n",
              "      fill: #1967D2;\n",
              "      height: 32px;\n",
              "      padding: 0 0 0 0;\n",
              "      width: 32px;\n",
              "    }\n",
              "\n",
              "    .colab-df-convert:hover {\n",
              "      background-color: #E2EBFA;\n",
              "      box-shadow: 0px 1px 2px rgba(60, 64, 67, 0.3), 0px 1px 3px 1px rgba(60, 64, 67, 0.15);\n",
              "      fill: #174EA6;\n",
              "    }\n",
              "\n",
              "    [theme=dark] .colab-df-convert {\n",
              "      background-color: #3B4455;\n",
              "      fill: #D2E3FC;\n",
              "    }\n",
              "\n",
              "    [theme=dark] .colab-df-convert:hover {\n",
              "      background-color: #434B5C;\n",
              "      box-shadow: 0px 1px 3px 1px rgba(0, 0, 0, 0.15);\n",
              "      filter: drop-shadow(0px 1px 2px rgba(0, 0, 0, 0.3));\n",
              "      fill: #FFFFFF;\n",
              "    }\n",
              "  </style>\n",
              "\n",
              "      <script>\n",
              "        const buttonEl =\n",
              "          document.querySelector('#df-dfbd7b04-baba-4b12-bc14-0d432dc2abc4 button.colab-df-convert');\n",
              "        buttonEl.style.display =\n",
              "          google.colab.kernel.accessAllowed ? 'block' : 'none';\n",
              "\n",
              "        async function convertToInteractive(key) {\n",
              "          const element = document.querySelector('#df-dfbd7b04-baba-4b12-bc14-0d432dc2abc4');\n",
              "          const dataTable =\n",
              "            await google.colab.kernel.invokeFunction('convertToInteractive',\n",
              "                                                     [key], {});\n",
              "          if (!dataTable) return;\n",
              "\n",
              "          const docLinkHtml = 'Like what you see? Visit the ' +\n",
              "            '<a target=\"_blank\" href=https://colab.research.google.com/notebooks/data_table.ipynb>data table notebook</a>'\n",
              "            + ' to learn more about interactive tables.';\n",
              "          element.innerHTML = '';\n",
              "          dataTable['output_type'] = 'display_data';\n",
              "          await google.colab.output.renderOutput(dataTable, element);\n",
              "          const docLink = document.createElement('div');\n",
              "          docLink.innerHTML = docLinkHtml;\n",
              "          element.appendChild(docLink);\n",
              "        }\n",
              "      </script>\n",
              "    </div>\n",
              "  </div>\n",
              "  "
            ]
          },
          "metadata": {},
          "execution_count": 888
        }
      ]
    },
    {
      "cell_type": "code",
      "source": [
        "# length of X_train and X_test\n",
        "len_train = len(X_train_text)\n",
        "len_test = len(X_test_text)\n",
        "\n",
        "print(len_train, len_test)"
      ],
      "metadata": {
        "colab": {
          "base_uri": "https://localhost:8080/"
        },
        "id": "dsxxeJ79Lm4W",
        "outputId": "e79f1ed1-a06a-4fbe-e9bd-34af2bdbb6b0"
      },
      "execution_count": 889,
      "outputs": [
        {
          "output_type": "stream",
          "name": "stdout",
          "text": [
            "644 276\n"
          ]
        }
      ]
    },
    {
      "cell_type": "code",
      "source": [
        "# merge X_train_text and X_test_text\n",
        "corpus = X_train_text.append(X_test_text)\n",
        "corpus.head()"
      ],
      "metadata": {
        "id": "K7R0tVIjLrY9",
        "colab": {
          "base_uri": "https://localhost:8080/",
          "height": 206
        },
        "outputId": "5758fad2-bb50-4ddb-bf7f-532e218c6f65"
      },
      "execution_count": 890,
      "outputs": [
        {
          "output_type": "execute_result",
          "data": {
            "text/plain": [
              "   Sl. No.                                      transcription\n",
              "0      480  CC:, Orthostatic lightheadedness.,HX:, This 76...\n",
              "1      374  PREOPERATIVE DIAGNOSES,1.  Bowel obstruction.,...\n",
              "2      114  PROCEDURE: , Newborn circumcision.,INDICATIONS...\n",
              "3      729  CC: ,Episodic confusion.,HX: ,This 65 y/o RHM ...\n",
              "4      764  HX: ,This 46y/o RHM with HTN was well until 2 ..."
            ],
            "text/html": [
              "\n",
              "  <div id=\"df-6b2fce52-2e9b-4b7d-b051-ebd876f286cc\">\n",
              "    <div class=\"colab-df-container\">\n",
              "      <div>\n",
              "<style scoped>\n",
              "    .dataframe tbody tr th:only-of-type {\n",
              "        vertical-align: middle;\n",
              "    }\n",
              "\n",
              "    .dataframe tbody tr th {\n",
              "        vertical-align: top;\n",
              "    }\n",
              "\n",
              "    .dataframe thead th {\n",
              "        text-align: right;\n",
              "    }\n",
              "</style>\n",
              "<table border=\"1\" class=\"dataframe\">\n",
              "  <thead>\n",
              "    <tr style=\"text-align: right;\">\n",
              "      <th></th>\n",
              "      <th>Sl. No.</th>\n",
              "      <th>transcription</th>\n",
              "    </tr>\n",
              "  </thead>\n",
              "  <tbody>\n",
              "    <tr>\n",
              "      <th>0</th>\n",
              "      <td>480</td>\n",
              "      <td>CC:, Orthostatic lightheadedness.,HX:, This 76...</td>\n",
              "    </tr>\n",
              "    <tr>\n",
              "      <th>1</th>\n",
              "      <td>374</td>\n",
              "      <td>PREOPERATIVE DIAGNOSES,1.  Bowel obstruction.,...</td>\n",
              "    </tr>\n",
              "    <tr>\n",
              "      <th>2</th>\n",
              "      <td>114</td>\n",
              "      <td>PROCEDURE: , Newborn circumcision.,INDICATIONS...</td>\n",
              "    </tr>\n",
              "    <tr>\n",
              "      <th>3</th>\n",
              "      <td>729</td>\n",
              "      <td>CC: ,Episodic confusion.,HX: ,This 65 y/o RHM ...</td>\n",
              "    </tr>\n",
              "    <tr>\n",
              "      <th>4</th>\n",
              "      <td>764</td>\n",
              "      <td>HX: ,This 46y/o RHM with HTN was well until 2 ...</td>\n",
              "    </tr>\n",
              "  </tbody>\n",
              "</table>\n",
              "</div>\n",
              "      <button class=\"colab-df-convert\" onclick=\"convertToInteractive('df-6b2fce52-2e9b-4b7d-b051-ebd876f286cc')\"\n",
              "              title=\"Convert this dataframe to an interactive table.\"\n",
              "              style=\"display:none;\">\n",
              "        \n",
              "  <svg xmlns=\"http://www.w3.org/2000/svg\" height=\"24px\"viewBox=\"0 0 24 24\"\n",
              "       width=\"24px\">\n",
              "    <path d=\"M0 0h24v24H0V0z\" fill=\"none\"/>\n",
              "    <path d=\"M18.56 5.44l.94 2.06.94-2.06 2.06-.94-2.06-.94-.94-2.06-.94 2.06-2.06.94zm-11 1L8.5 8.5l.94-2.06 2.06-.94-2.06-.94L8.5 2.5l-.94 2.06-2.06.94zm10 10l.94 2.06.94-2.06 2.06-.94-2.06-.94-.94-2.06-.94 2.06-2.06.94z\"/><path d=\"M17.41 7.96l-1.37-1.37c-.4-.4-.92-.59-1.43-.59-.52 0-1.04.2-1.43.59L10.3 9.45l-7.72 7.72c-.78.78-.78 2.05 0 2.83L4 21.41c.39.39.9.59 1.41.59.51 0 1.02-.2 1.41-.59l7.78-7.78 2.81-2.81c.8-.78.8-2.07 0-2.86zM5.41 20L4 18.59l7.72-7.72 1.47 1.35L5.41 20z\"/>\n",
              "  </svg>\n",
              "      </button>\n",
              "      \n",
              "  <style>\n",
              "    .colab-df-container {\n",
              "      display:flex;\n",
              "      flex-wrap:wrap;\n",
              "      gap: 12px;\n",
              "    }\n",
              "\n",
              "    .colab-df-convert {\n",
              "      background-color: #E8F0FE;\n",
              "      border: none;\n",
              "      border-radius: 50%;\n",
              "      cursor: pointer;\n",
              "      display: none;\n",
              "      fill: #1967D2;\n",
              "      height: 32px;\n",
              "      padding: 0 0 0 0;\n",
              "      width: 32px;\n",
              "    }\n",
              "\n",
              "    .colab-df-convert:hover {\n",
              "      background-color: #E2EBFA;\n",
              "      box-shadow: 0px 1px 2px rgba(60, 64, 67, 0.3), 0px 1px 3px 1px rgba(60, 64, 67, 0.15);\n",
              "      fill: #174EA6;\n",
              "    }\n",
              "\n",
              "    [theme=dark] .colab-df-convert {\n",
              "      background-color: #3B4455;\n",
              "      fill: #D2E3FC;\n",
              "    }\n",
              "\n",
              "    [theme=dark] .colab-df-convert:hover {\n",
              "      background-color: #434B5C;\n",
              "      box-shadow: 0px 1px 3px 1px rgba(0, 0, 0, 0.15);\n",
              "      filter: drop-shadow(0px 1px 2px rgba(0, 0, 0, 0.3));\n",
              "      fill: #FFFFFF;\n",
              "    }\n",
              "  </style>\n",
              "\n",
              "      <script>\n",
              "        const buttonEl =\n",
              "          document.querySelector('#df-6b2fce52-2e9b-4b7d-b051-ebd876f286cc button.colab-df-convert');\n",
              "        buttonEl.style.display =\n",
              "          google.colab.kernel.accessAllowed ? 'block' : 'none';\n",
              "\n",
              "        async function convertToInteractive(key) {\n",
              "          const element = document.querySelector('#df-6b2fce52-2e9b-4b7d-b051-ebd876f286cc');\n",
              "          const dataTable =\n",
              "            await google.colab.kernel.invokeFunction('convertToInteractive',\n",
              "                                                     [key], {});\n",
              "          if (!dataTable) return;\n",
              "\n",
              "          const docLinkHtml = 'Like what you see? Visit the ' +\n",
              "            '<a target=\"_blank\" href=https://colab.research.google.com/notebooks/data_table.ipynb>data table notebook</a>'\n",
              "            + ' to learn more about interactive tables.';\n",
              "          element.innerHTML = '';\n",
              "          dataTable['output_type'] = 'display_data';\n",
              "          await google.colab.output.renderOutput(dataTable, element);\n",
              "          const docLink = document.createElement('div');\n",
              "          docLink.innerHTML = docLinkHtml;\n",
              "          element.appendChild(docLink);\n",
              "        }\n",
              "      </script>\n",
              "    </div>\n",
              "  </div>\n",
              "  "
            ]
          },
          "metadata": {},
          "execution_count": 890
        }
      ]
    },
    {
      "cell_type": "markdown",
      "source": [
        "# **tfidf**"
      ],
      "metadata": {
        "id": "wHaOGsLt_a6p"
      }
    },
    {
      "cell_type": "code",
      "source": [
        "import nltk\n",
        "nltk.download('wordnet')\n",
        "nltk.download('omw-1.4')"
      ],
      "metadata": {
        "colab": {
          "base_uri": "https://localhost:8080/"
        },
        "id": "zxtp-xyUFbKv",
        "outputId": "cb6d6913-7e5b-45ae-d638-94ef37c9cdc8"
      },
      "execution_count": 891,
      "outputs": [
        {
          "output_type": "stream",
          "name": "stderr",
          "text": [
            "[nltk_data] Downloading package wordnet to /root/nltk_data...\n",
            "[nltk_data]   Package wordnet is already up-to-date!\n",
            "[nltk_data] Downloading package omw-1.4 to /root/nltk_data...\n",
            "[nltk_data]   Package omw-1.4 is already up-to-date!\n"
          ]
        },
        {
          "output_type": "execute_result",
          "data": {
            "text/plain": [
              "True"
            ]
          },
          "metadata": {},
          "execution_count": 891
        }
      ]
    },
    {
      "cell_type": "code",
      "source": [
        "#preprocessing\n",
        "from nltk.stem.snowball import SnowballStemmer\n",
        "from nltk.corpus import stopwords\n",
        "from nltk.tokenize import word_tokenize\n",
        "\n",
        "import string\n",
        "string.punctuation\n",
        "\n",
        "stop_words = set(stopwords.words('english')+[\"CC\",\"HX\",\"EXAM\",\"CN\",\"LAB\",\n",
        "                                             'preoperative', 'postoperative', 'diagnosis', 'procedure', \n",
        "                                               'anesthesia', 'indication', 'indications', 'findings', 'technique', \n",
        "                                              'cc', 'chief complaint', 'complaint', 'complains', 'hx', 'history', \n",
        "                                               'meds', 'medication', 'medications', 'pmh', 'prior medical history',\n",
        "                                               'fhx', 'shx', 'exam', 'labs', 'course', 'complications', 'summary',\n",
        "                                               'study', 'operation', 'performed', 'clinical', 'note', 'description'])\n",
        " \n",
        "stemmer = SnowballStemmer(\"english\", ignore_stopwords=True)\n",
        "\n",
        "from sklearn.feature_extraction.text import TfidfVectorizer\n",
        "from nltk.stem.porter import PorterStemmer\n",
        "\n",
        "def tokenize(text):\n",
        "  \n",
        "    # remove punctuation\n",
        "    text=\"\".join([i for i in text if i not in string.punctuation])\n",
        "\n",
        "    # lower\n",
        "    text=text.lower()\n",
        "\n",
        "    # remove stop words\n",
        "    tokens = nltk.word_tokenize(text)\n",
        "    filtered_sentence = [w for w in tokens if not w.lower() in stop_words]\n",
        "    filtered_sentence = []\n",
        "\n",
        "    # stem\n",
        "    stems = []\n",
        "    for item in tokens:\n",
        "        stems.append(stemmer.stem(item))\n",
        "    \n",
        "    for w in stems:\n",
        "      if w not in stop_words:\n",
        "        filtered_sentence.append(w)\n",
        "\n",
        "    return filtered_sentence\n"
      ],
      "metadata": {
        "id": "ccnNdqKaDeJ0"
      },
      "execution_count": 892,
      "outputs": []
    },
    {
      "cell_type": "code",
      "source": [
        "# Convert text data to numerical features using sklearn.feature_extraction: Feature Extraction\n",
        "# feature_extraction.text.CountVectorizer or feature_extraction.text.TfidfVectorizer\n",
        "# In this sample code, we use TfidfVectorizer\n",
        "from sklearn.feature_extraction.text import TfidfVectorizer\n",
        "\n",
        "# auto remove punctuation\n",
        "vectorizer = TfidfVectorizer(tokenizer=tokenize,min_df = 10) # you can tune the value of min_df, here I just try 10\n",
        "X = vectorizer.fit_transform(corpus['transcription'])\n",
        "\n",
        "# get the features of X_train and X_test\n",
        "x_train_feature = X[:len_train]\n",
        "x_test_feature = X[len_train:]"
      ],
      "metadata": {
        "id": "AK4el6sWMFli"
      },
      "execution_count": 893,
      "outputs": []
    },
    {
      "cell_type": "code",
      "source": [
        "x_train_feature"
      ],
      "metadata": {
        "colab": {
          "base_uri": "https://localhost:8080/"
        },
        "id": "JbbxJ8Osmyvp",
        "outputId": "051b754b-43e4-41a9-a596-3a03843c1bb4"
      },
      "execution_count": 894,
      "outputs": [
        {
          "output_type": "execute_result",
          "data": {
            "text/plain": [
              "<644x2276 sparse matrix of type '<class 'numpy.float64'>'\n",
              "\twith 73063 stored elements in Compressed Sparse Row format>"
            ]
          },
          "metadata": {},
          "execution_count": 894
        }
      ]
    },
    {
      "cell_type": "markdown",
      "source": [
        "# Model 1: KNN"
      ],
      "metadata": {
        "id": "A6xm_0xkMlrZ"
      }
    },
    {
      "cell_type": "code",
      "source": [
        "from sklearn.model_selection import cross_val_score"
      ],
      "metadata": {
        "id": "l6WybJhXGmV6"
      },
      "execution_count": 895,
      "outputs": []
    },
    {
      "cell_type": "code",
      "source": [
        "# train your machine learning model such as KNN\n",
        "from sklearn.neighbors import KNeighborsClassifier\n",
        "neigh = KNeighborsClassifier(n_neighbors=7)\n",
        "neigh.fit(x_train_feature, y_train['medical_specialty'])\n",
        "\n",
        "scores = cross_val_score(neigh, x_train_feature, y_train['medical_specialty'], cv=5, scoring=\"f1_weighted\")\n",
        "scores.mean()\n"
      ],
      "metadata": {
        "id": "fkC2TJzSMIDQ",
        "colab": {
          "base_uri": "https://localhost:8080/"
        },
        "outputId": "ccb2facb-9fd2-4491-ec55-707a28071ac1"
      },
      "execution_count": 896,
      "outputs": [
        {
          "output_type": "execute_result",
          "data": {
            "text/plain": [
              "0.7952403259679091"
            ]
          },
          "metadata": {},
          "execution_count": 896
        }
      ]
    },
    {
      "cell_type": "markdown",
      "source": [
        "# Model 2: MultinomNB"
      ],
      "metadata": {
        "id": "RYKE2cYMJYiv"
      }
    },
    {
      "cell_type": "code",
      "source": [
        "from sklearn.naive_bayes import MultinomialNB\n",
        "nb = MultinomialNB(alpha=0.6).fit(x_train_feature, y_train['medical_specialty'])\n",
        "scores = cross_val_score(nb, x_train_feature, y_train['medical_specialty'], cv=5, scoring=\"f1_weighted\")\n",
        "scores.mean()"
      ],
      "metadata": {
        "colab": {
          "base_uri": "https://localhost:8080/"
        },
        "id": "qu3CMo6OJaK4",
        "outputId": "7fa52101-9cb7-4be3-adb8-577146aaff84"
      },
      "execution_count": 897,
      "outputs": [
        {
          "output_type": "execute_result",
          "data": {
            "text/plain": [
              "0.7713655454458039"
            ]
          },
          "metadata": {},
          "execution_count": 897
        }
      ]
    },
    {
      "cell_type": "markdown",
      "source": [
        "# Model 3: Random Forest"
      ],
      "metadata": {
        "id": "qtzzNRiFMnqR"
      }
    },
    {
      "cell_type": "code",
      "source": [
        "from sklearn.ensemble import RandomForestClassifier\n",
        "  \n",
        "# create classifer object\n",
        "rf = RandomForestClassifier(n_estimators = 1000, random_state = 0)\n",
        "  \n",
        "# fit the classifer with x and y data\n",
        "rf.fit(x_train_feature, y_train['medical_specialty']) \n",
        "\n",
        "scores = cross_val_score(rf, x_train_feature, y_train['medical_specialty'], cv=5)\n",
        "scores.mean()"
      ],
      "metadata": {
        "id": "a8AWeOKiMpyK",
        "colab": {
          "base_uri": "https://localhost:8080/"
        },
        "outputId": "9b8e0115-bba1-4f70-956e-54428519fc0d"
      },
      "execution_count": 898,
      "outputs": [
        {
          "output_type": "execute_result",
          "data": {
            "text/plain": [
              "0.7080547480620154"
            ]
          },
          "metadata": {},
          "execution_count": 898
        }
      ]
    },
    {
      "cell_type": "markdown",
      "source": [
        "# Model 4: perceptron"
      ],
      "metadata": {
        "id": "zS5-O9mhRyHF"
      }
    },
    {
      "cell_type": "code",
      "source": [
        "from sklearn.linear_model import Perceptron\n",
        "from sklearn.model_selection import cross_val_score\n",
        "per = Perceptron(tol=0.000001, random_state=3, penalty='l2',alpha=0.000001)\n",
        "per.fit(x_train_feature, y_train['medical_specialty'])\n",
        "\n",
        "scores = cross_val_score(per, x_train_feature, y_train['medical_specialty'], cv=5)\n",
        "scores.mean()"
      ],
      "metadata": {
        "colab": {
          "base_uri": "https://localhost:8080/"
        },
        "id": "QSjLga6fRxcV",
        "outputId": "ee2027f9-9d5a-41df-9c0a-2c3207a82a83"
      },
      "execution_count": 899,
      "outputs": [
        {
          "output_type": "execute_result",
          "data": {
            "text/plain": [
              "0.7375121124031008"
            ]
          },
          "metadata": {},
          "execution_count": 899
        }
      ]
    },
    {
      "cell_type": "markdown",
      "source": [
        "# Model 5: passive agg"
      ],
      "metadata": {
        "id": "Jt1Yr4cbdB0y"
      }
    },
    {
      "cell_type": "code",
      "source": [
        "from sklearn.linear_model import PassiveAggressiveClassifier\n",
        "pa = PassiveAggressiveClassifier(C=0.0001,max_iter=100000, random_state=0,\n",
        "                                 tol=1e-5, validation_fraction=0.1)\n",
        "pa.fit(x_train_feature, y_train['medical_specialty'])\n",
        "\n",
        "scores = cross_val_score(pa, x_train_feature, y_train['medical_specialty'], cv=5)\n",
        "scores.mean()"
      ],
      "metadata": {
        "colab": {
          "base_uri": "https://localhost:8080/"
        },
        "id": "c9TbuOOJdFjg",
        "outputId": "ac91fc5a-e23c-4588-ff16-1d98847599ec"
      },
      "execution_count": 900,
      "outputs": [
        {
          "output_type": "execute_result",
          "data": {
            "text/plain": [
              "0.7888202519379844"
            ]
          },
          "metadata": {},
          "execution_count": 900
        }
      ]
    },
    {
      "cell_type": "markdown",
      "source": [
        "# Model 6: SGDC"
      ],
      "metadata": {
        "id": "K7HW6RBGJ4CN"
      }
    },
    {
      "cell_type": "code",
      "source": [
        "from sklearn.linear_model import SGDClassifier\n",
        "\n",
        "svm=SGDClassifier(loss='hinge', penalty='l2',alpha=8e-3,\n",
        "                  random_state=42,tol=1e-6)\n",
        "svm.fit(x_train_feature, y_train['medical_specialty'])\n",
        "\n",
        "scores = cross_val_score(svm, x_train_feature, y_train['medical_specialty'], cv=5, scoring=\"f1_weighted\")\n",
        "scores.mean()"
      ],
      "metadata": {
        "colab": {
          "base_uri": "https://localhost:8080/"
        },
        "id": "yPdS2IIuJ7UA",
        "outputId": "3de3417b-0b8d-4288-d3d5-068971bb7e98"
      },
      "execution_count": 901,
      "outputs": [
        {
          "output_type": "execute_result",
          "data": {
            "text/plain": [
              "0.7913622984421049"
            ]
          },
          "metadata": {},
          "execution_count": 901
        }
      ]
    },
    {
      "cell_type": "markdown",
      "source": [
        "# Model 7: MLPC"
      ],
      "metadata": {
        "id": "XBKR88cdUEe5"
      }
    },
    {
      "cell_type": "code",
      "source": [
        "from sklearn.neural_network import MLPClassifier\n",
        "mlpc= MLPClassifier(solver='lbfgs', alpha=1e-5,\n",
        "                    hidden_layer_sizes=(30,), \n",
        "                    random_state=1,\n",
        "                    max_iter=1000000)\n",
        "mlpc.fit(x_train_feature, y_train['medical_specialty'])\n",
        "\n",
        "scores = cross_val_score(mlpc, x_train_feature, y_train['medical_specialty'], cv=5)\n",
        "scores.mean()"
      ],
      "metadata": {
        "colab": {
          "base_uri": "https://localhost:8080/"
        },
        "id": "ParprQp0UDuj",
        "outputId": "ff893811-9a66-4b89-885d-0bd8f1828f49"
      },
      "execution_count": 902,
      "outputs": [
        {
          "output_type": "execute_result",
          "data": {
            "text/plain": [
              "0.7623425387596898"
            ]
          },
          "metadata": {},
          "execution_count": 902
        }
      ]
    },
    {
      "cell_type": "code",
      "source": [
        "#from sklearn.model_selection import GridSearchCV\n",
        "#parameters = {'clf__alpha': (1e-2, 1e-3)}"
      ],
      "metadata": {
        "id": "CyLEBcKPL1Jw"
      },
      "execution_count": 903,
      "outputs": []
    },
    {
      "cell_type": "markdown",
      "source": [
        "# Model 8: gradient boost"
      ],
      "metadata": {
        "id": "Dbf50RAlWA5E"
      }
    },
    {
      "cell_type": "code",
      "source": [
        "from sklearn.ensemble import GradientBoostingClassifier\n",
        "\n",
        "gb = GradientBoostingClassifier(n_estimators=100, learning_rate=0.1,\n",
        "                                 max_depth=3, random_state=0)\n",
        "\n",
        "gb.fit(x_train_feature, y_train['medical_specialty'])\n",
        "\n",
        "scores = cross_val_score(gb, x_train_feature, y_train['medical_specialty'], cv=5)\n",
        "scores.mean()"
      ],
      "metadata": {
        "colab": {
          "base_uri": "https://localhost:8080/"
        },
        "id": "0T8cvrzGWCYP",
        "outputId": "f66228b0-e94a-43be-93bf-df1f6ebcb077"
      },
      "execution_count": 904,
      "outputs": [
        {
          "output_type": "execute_result",
          "data": {
            "text/plain": [
              "0.725109011627907"
            ]
          },
          "metadata": {},
          "execution_count": 904
        }
      ]
    },
    {
      "cell_type": "markdown",
      "source": [
        "# Model 9: logistic"
      ],
      "metadata": {
        "id": "hDeeDDx5gaC4"
      }
    },
    {
      "cell_type": "code",
      "source": [
        "from sklearn.linear_model import LogisticRegression\n",
        "lg = LogisticRegression(C=500, penalty=\"l1\", solver=\"saga\", tol=0.01,max_iter=100000)\n",
        "lg.fit(x_train_feature, y_train['medical_specialty'])\n",
        "\n",
        "scores = cross_val_score(lg, x_train_feature, y_train['medical_specialty'], cv=5)\n",
        "scores.mean()"
      ],
      "metadata": {
        "colab": {
          "base_uri": "https://localhost:8080/"
        },
        "id": "dK7zcc4fgb2Q",
        "outputId": "603f37cf-018b-47df-9f71-fd1b66cef619"
      },
      "execution_count": 905,
      "outputs": [
        {
          "output_type": "execute_result",
          "data": {
            "text/plain": [
              "0.7608284883720929"
            ]
          },
          "metadata": {},
          "execution_count": 905
        }
      ]
    },
    {
      "cell_type": "markdown",
      "source": [
        "# Model 10: xgboost"
      ],
      "metadata": {
        "id": "jnZGdzFVmKn5"
      }
    },
    {
      "cell_type": "code",
      "source": [
        "import xgboost as xgb\n",
        "from xgboost import XGBClassifier\n",
        "\n",
        "xgb= XGBClassifier(base_score=0.5,\n",
        "                 booster=\"gbtree\",\n",
        "                 colsample_bylevel=0.5,\n",
        "                 colsample_bynode=0.5,\n",
        "                 colsample_bytree=0.5,\n",
        "                 gamma=0.0000001,\n",
        "                 learning_rate=1e-1,\n",
        "                 max_delta_step=0,\n",
        "                 max_depth=40,\n",
        "                 min_child_weight=1,\n",
        "                 missing=None,\n",
        "                 n_estiamtors=1000,\n",
        "                 n_jobs=1,\n",
        "                 nthread=None,\n",
        "                 objective='multi:softprob',\n",
        "                 randome_state=42,\n",
        "                 reg_alpha=0.001,\n",
        "                 reg_lambda=0.001,\n",
        "                 scale_pos_weight=1,\n",
        "                 sub_sample=0.3,\n",
        "                 verbosity=1\n",
        "                 )\n",
        "xgb.fit(x_train_feature, y_train['medical_specialty'])"
      ],
      "metadata": {
        "colab": {
          "base_uri": "https://localhost:8080/"
        },
        "id": "nbTIBWcWn7kb",
        "outputId": "2e14ab62-e786-4f33-dc07-0704ef72e79c"
      },
      "execution_count": 906,
      "outputs": [
        {
          "output_type": "execute_result",
          "data": {
            "text/plain": [
              "XGBClassifier(colsample_bylevel=0.5, colsample_bynode=0.5, colsample_bytree=0.5,\n",
              "              gamma=1e-07, max_depth=40, n_estiamtors=1000,\n",
              "              objective='multi:softprob', randome_state=42, reg_alpha=0.001,\n",
              "              reg_lambda=0.001, sub_sample=0.3)"
            ]
          },
          "metadata": {},
          "execution_count": 906
        }
      ]
    },
    {
      "cell_type": "code",
      "source": [
        "scores = cross_val_score(xgb, x_train_feature, y_train['medical_specialty'], cv=5)\n",
        "scores.mean()"
      ],
      "metadata": {
        "colab": {
          "base_uri": "https://localhost:8080/"
        },
        "id": "NpO7MONUqZg7",
        "outputId": "9ee8c8d6-ef6e-4f1e-8bed-17c17225905f"
      },
      "execution_count": 907,
      "outputs": [
        {
          "output_type": "execute_result",
          "data": {
            "text/plain": [
              "0.7422238372093023"
            ]
          },
          "metadata": {},
          "execution_count": 907
        }
      ]
    },
    {
      "cell_type": "markdown",
      "source": [
        "#linearSVC"
      ],
      "metadata": {
        "id": "bG5buIWeFnFS"
      }
    },
    {
      "cell_type": "code",
      "source": [
        "from sklearn.svm import LinearSVC\n",
        "svc = LinearSVC(random_state=0, tol=1e-5)\n",
        "svc.fit(x_train_feature, y_train['medical_specialty'])\n",
        "\n",
        "scores = cross_val_score(svc, x_train_feature, y_train['medical_specialty'], cv=5,scoring=\"f1_weighted\")\n",
        "scores.mean()"
      ],
      "metadata": {
        "colab": {
          "base_uri": "https://localhost:8080/"
        },
        "id": "0qkAUyLZFmZq",
        "outputId": "4797b885-6e2e-4beb-df91-8441b3f7c929"
      },
      "execution_count": 908,
      "outputs": [
        {
          "output_type": "execute_result",
          "data": {
            "text/plain": [
              "0.7785332968232701"
            ]
          },
          "metadata": {},
          "execution_count": 908
        }
      ]
    },
    {
      "cell_type": "markdown",
      "source": [
        "# Ensemble: vote"
      ],
      "metadata": {
        "id": "DY13HXOHQBG_"
      }
    },
    {
      "cell_type": "code",
      "source": [
        "from sklearn.ensemble import VotingClassifier\n",
        "vote = VotingClassifier(\n",
        " estimators=[('KNN', neigh), ('Navie Bayes', nb),\n",
        "             ('perceptron', per), ('Passive Aggressive', pa), \n",
        "             ('SGDC', svm), ('MLPC', mlpc), \n",
        "             ('logistic', lg)],\n",
        " voting='hard'\n",
        ")"
      ],
      "metadata": {
        "id": "kv6j_xdoQBzR"
      },
      "execution_count": 909,
      "outputs": []
    },
    {
      "cell_type": "code",
      "source": [
        "vote.fit(x_train_feature, y_train['medical_specialty'])"
      ],
      "metadata": {
        "colab": {
          "base_uri": "https://localhost:8080/"
        },
        "id": "ci-bFLmGYFlL",
        "outputId": "6c99b95c-8eaa-457a-9561-76777dcd96a7"
      },
      "execution_count": 910,
      "outputs": [
        {
          "output_type": "execute_result",
          "data": {
            "text/plain": [
              "VotingClassifier(estimators=[('KNN', KNeighborsClassifier(n_neighbors=7)),\n",
              "                             ('Navie Bayes', MultinomialNB(alpha=0.6)),\n",
              "                             ('perceptron',\n",
              "                              Perceptron(alpha=1e-06, penalty='l2',\n",
              "                                         random_state=3, tol=1e-06)),\n",
              "                             ('Passive Aggressive',\n",
              "                              PassiveAggressiveClassifier(C=0.0001,\n",
              "                                                          max_iter=100000,\n",
              "                                                          random_state=0,\n",
              "                                                          tol=1e-05)),\n",
              "                             ('SGDC',\n",
              "                              SGDClassifier(alpha=0.008, random_state=42,\n",
              "                                            tol=1e-06)),\n",
              "                             ('MLPC',\n",
              "                              MLPClassifier(alpha=1e-05,\n",
              "                                            hidden_layer_sizes=(30,),\n",
              "                                            max_iter=1000000, random_state=1,\n",
              "                                            solver='lbfgs')),\n",
              "                             ('logistic',\n",
              "                              LogisticRegression(C=500, max_iter=100000,\n",
              "                                                 penalty='l1', solver='saga',\n",
              "                                                 tol=0.01))])"
            ]
          },
          "metadata": {},
          "execution_count": 910
        }
      ]
    },
    {
      "cell_type": "code",
      "source": [
        "scores = cross_val_score(vote, x_train_feature, y_train['medical_specialty'], cv=5,scoring=\"f1_weighted\")\n",
        "scores.mean()"
      ],
      "metadata": {
        "colab": {
          "base_uri": "https://localhost:8080/"
        },
        "id": "RmQRHKxVWAcn",
        "outputId": "18818c8e-ef99-45bf-9a81-2d0c867dcb77"
      },
      "execution_count": 911,
      "outputs": [
        {
          "output_type": "execute_result",
          "data": {
            "text/plain": [
              "0.7883786606569986"
            ]
          },
          "metadata": {},
          "execution_count": 911
        }
      ]
    },
    {
      "cell_type": "markdown",
      "source": [
        "# submission"
      ],
      "metadata": {
        "id": "hdsrzo_PP_qf"
      }
    },
    {
      "cell_type": "code",
      "source": [
        "for clf, label in zip([neigh, nb, rf, per,pa,svm,mlpc,gb,lg,xgb,vote], \n",
        "                      ['KNN', 'Naive Bayes', 'Random Forest', 'perceptron',\n",
        "                       'passive aggresive','SGDC','MLPC','gradient','logistic',\n",
        "                       'xgboost','Ensemble']):\n",
        "\n",
        " scores = cross_val_score(clf, x_train_feature, y_train['medical_specialty'], scoring='f1_weighted', cv=5)\n",
        "\n",
        " print(\"F1-weighted: %0.2f (+/- %0.2f) [%s]\" % (scores.mean(), scores.std(), label))"
      ],
      "metadata": {
        "colab": {
          "base_uri": "https://localhost:8080/"
        },
        "id": "8nKZxa3zV-eS",
        "outputId": "75d7d82e-4c08-4990-da92-831ae6c68d8b"
      },
      "execution_count": 916,
      "outputs": [
        {
          "output_type": "stream",
          "name": "stdout",
          "text": [
            "F1-weighted: 0.80 (+/- 0.03) [KNN]\n",
            "F1-weighted: 0.77 (+/- 0.02) [Naive Bayes]\n",
            "F1-weighted: 0.71 (+/- 0.02) [Random Forest]\n",
            "F1-weighted: 0.74 (+/- 0.03) [perceptron]\n",
            "F1-weighted: 0.79 (+/- 0.04) [passive aggresive]\n",
            "F1-weighted: 0.79 (+/- 0.04) [SGDC]\n",
            "F1-weighted: 0.76 (+/- 0.05) [MLPC]\n",
            "F1-weighted: 0.73 (+/- 0.02) [gradient]\n",
            "F1-weighted: 0.78 (+/- 0.04) [logistic]\n",
            "F1-weighted: 0.74 (+/- 0.02) [xgboost]\n",
            "F1-weighted: 0.79 (+/- 0.04) [Ensemble]\n"
          ]
        }
      ]
    },
    {
      "cell_type": "code",
      "source": [
        "# make predictions on the test data\n",
        "pred = neigh.predict(x_test_feature)\n",
        "pred"
      ],
      "metadata": {
        "colab": {
          "base_uri": "https://localhost:8080/"
        },
        "id": "GOJM-JHoR-Cl",
        "outputId": "fb0dd17d-ae21-4da9-d24d-8195543326d6"
      },
      "execution_count": 913,
      "outputs": [
        {
          "output_type": "execute_result",
          "data": {
            "text/plain": [
              "array([3, 5, 3, 2, 4, 2, 1, 1, 5, 5, 5, 3, 1, 3, 1, 2, 3, 3, 1, 1, 6, 3,\n",
              "       5, 3, 2, 3, 2, 3, 2, 4, 2, 3, 3, 6, 4, 2, 2, 1, 6, 4, 5, 5, 5, 1,\n",
              "       2, 5, 6, 5, 4, 4, 6, 5, 1, 4, 1, 1, 4, 2, 5, 1, 4, 5, 1, 1, 1, 5,\n",
              "       1, 1, 1, 6, 4, 5, 4, 1, 4, 4, 5, 5, 3, 2, 6, 4, 3, 2, 5, 4, 3, 6,\n",
              "       1, 1, 3, 6, 6, 3, 6, 1, 5, 3, 6, 4, 4, 6, 6, 5, 3, 2, 2, 5, 6, 3,\n",
              "       2, 1, 3, 4, 6, 3, 5, 1, 1, 2, 6, 5, 4, 5, 2, 6, 6, 5, 3, 2, 5, 4,\n",
              "       3, 3, 1, 1, 3, 2, 1, 6, 5, 2, 2, 6, 1, 1, 1, 2, 1, 6, 1, 5, 5, 5,\n",
              "       6, 6, 5, 4, 2, 3, 4, 1, 4, 5, 4, 3, 4, 1, 5, 3, 1, 6, 1, 4, 1, 6,\n",
              "       5, 5, 4, 6, 6, 2, 5, 4, 3, 1, 3, 5, 6, 4, 2, 6, 6, 6, 6, 5, 5, 6,\n",
              "       2, 5, 6, 1, 5, 1, 3, 2, 1, 2, 4, 3, 3, 4, 1, 4, 1, 1, 6, 4, 6, 3,\n",
              "       5, 3, 2, 1, 3, 5, 3, 4, 2, 4, 5, 6, 5, 5, 1, 3, 1, 4, 3, 6, 6, 4,\n",
              "       5, 2, 5, 5, 2, 5, 1, 4, 3, 4, 6, 1, 6, 1, 4, 6, 4, 1, 3, 6, 3, 3,\n",
              "       2, 5, 1, 5, 2, 3, 2, 6, 1, 6, 3, 2])"
            ]
          },
          "metadata": {},
          "execution_count": 913
        }
      ]
    },
    {
      "cell_type": "code",
      "source": [
        "# write your predictions to the submission file and submit it to Kaggle\n",
        "submission = pd.read_csv('sampleSubmission.csv')\n",
        "submission['medical_specialty'] = pred\n",
        "submission.to_csv('sample_submission.csv', index=False)"
      ],
      "metadata": {
        "id": "dDNvoa_MMjJ4"
      },
      "execution_count": 914,
      "outputs": []
    }
  ],
  "metadata": {
    "colab": {
      "provenance": [],
      "toc_visible": true
    },
    "kernelspec": {
      "display_name": "Python 3",
      "name": "python3"
    },
    "language_info": {
      "name": "python"
    }
  },
  "nbformat": 4,
  "nbformat_minor": 0
}